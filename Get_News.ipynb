{
 "cells": [
  {
   "cell_type": "code",
   "execution_count": 1,
   "id": "4a9ffcfb",
   "metadata": {},
   "outputs": [
    {
     "name": "stderr",
     "output_type": "stream",
     "text": [
      "C:\\ProgramData\\Anaconda3\\envs\\tensorflow-gpu\\lib\\site-packages\\fuzzywuzzy\\fuzz.py:11: UserWarning: Using slow pure-python SequenceMatcher. Install python-Levenshtein to remove this warning\n",
      "  warnings.warn('Using slow pure-python SequenceMatcher. Install python-Levenshtein to remove this warning')\n"
     ]
    }
   ],
   "source": [
    "#Importing the libraries\n",
    "from tkinter import *\n",
    "from gnewsclient import gnewsclient"
   ]
  },
  {
   "cell_type": "code",
   "execution_count": 2,
   "id": "78c0da8a",
   "metadata": {},
   "outputs": [],
   "source": [
    "#Function to get the news\n",
    "def news():\n",
    "    client = gnewsclient.NewsClient(language = language.get(), location = location.get(), topic = topic.get(), max_results = 5)\n",
    "    news_list = client.get_news()\n",
    "    result_title.set (news_list[0][\"title\"] + \"\\n\" + news_list[1][\"title\"] + news_list[2][\"title\"])"
   ]
  },
  {
   "cell_type": "code",
   "execution_count": 3,
   "id": "969525e8",
   "metadata": {},
   "outputs": [],
   "source": [
    "#Creating the tkinter object\n",
    "master = Tk()\n",
    "master.title(\"News\")\n",
    "master.configure(bg = \"white smoke\")\n",
    "\n",
    "#Tkinter variable classes\n",
    "result_title = StringVar()\n",
    "result_link = StringVar()\n",
    "\n",
    "#Label Creation\n",
    "Label(master, text = \"Language :\", bg = \"grey\").grid(row = 0, sticky = W)\n",
    "Label(master, text = \"Location :\", bg = \"grey\").grid(row = 1, sticky = W)\n",
    "Label(master, text = \"Topic :\", bg = \"grey\").grid(row = 2, sticky = W)\n",
    "\n",
    "language = Entry(master)\n",
    "language.grid(row = 0, column = 1)\n",
    "\n",
    "location = Entry(master)\n",
    "location.grid(row = 1, column = 1)\n",
    "\n",
    "topic = Entry(master)\n",
    "topic.grid(row = 2, column = 1)\n",
    "\n",
    "#Creating label for class variable\n",
    "Label(master, text = \"\", textvariable = result_title, bg = \"grey\").grid(row = 3, column = 1, sticky = W)\n",
    "\n",
    "#Button to get the news\n",
    "Button(master, text = \"Show\", command = news, bg = \"white\").grid(row = 1, column = 3)\n",
    "\n",
    "master.mainloop()"
   ]
  }
 ],
 "metadata": {
  "kernelspec": {
   "display_name": "Python 3",
   "language": "python",
   "name": "python3"
  },
  "language_info": {
   "codemirror_mode": {
    "name": "ipython",
    "version": 3
   },
   "file_extension": ".py",
   "mimetype": "text/x-python",
   "name": "python",
   "nbconvert_exporter": "python",
   "pygments_lexer": "ipython3",
   "version": "3.9.4"
  }
 },
 "nbformat": 4,
 "nbformat_minor": 5
}
